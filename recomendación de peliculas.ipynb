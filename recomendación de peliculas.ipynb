{
 "cells": [
  {
   "cell_type": "markdown",
   "id": "0697fcfd-27eb-4ffd-b097-1782b06aa941",
   "metadata": {},
   "source": [
    "# Sistema de Recomendación de peliculas"
   ]
  },
  {
   "cell_type": "markdown",
   "id": "73c10d76-9a42-4498-a55b-a3fa44186205",
   "metadata": {},
   "source": [
    "### Importar librerias"
   ]
  },
  {
   "cell_type": "code",
   "execution_count": 1,
   "id": "d9dd9e71-4150-4931-b03e-b681d2b660b6",
   "metadata": {},
   "outputs": [],
   "source": [
    "import pandas as pd\n",
    "import seaborn as sns\n",
    "import matplotlib.pyplot as plt\n",
    "import numpy as np"
   ]
  },
  {
   "cell_type": "markdown",
   "id": "73a12d91-6d7f-43ea-8353-983653cd01fd",
   "metadata": {},
   "source": [
    "### cargar datos"
   ]
  },
  {
   "cell_type": "code",
   "execution_count": 2,
   "id": "f8c02c3b-781a-4538-83bf-f6d1ce7b9638",
   "metadata": {},
   "outputs": [],
   "source": [
    "movies = pd.read_csv(\"D:\\\\Python\\\\movies.csv\", header = None)\n",
    "tags = pd.read_csv(\"D:\\\\Python\\\\tags.csv\", header = None, low_memory = False)\n",
    "links = pd.read_csv(\"D:\\\\Python\\\\links.csv\", header = None)\n",
    "ratings = pd.read_csv(\"D:\\\\Python\\\\ratings.csv\", nrows = 2500055 ,header = None, low_memory = False)"
   ]
  },
  {
   "cell_type": "markdown",
   "id": "16581c40-b7be-4ac2-827b-6f0c80516742",
   "metadata": {},
   "source": [
    "### Lumpieza de datos"
   ]
  },
  {
   "cell_type": "code",
   "execution_count": 3,
   "id": "8bdd6172-4a8e-46a8-a472-9dbbdcbfe56e",
   "metadata": {},
   "outputs": [],
   "source": [
    "movies.columns = [\"movieId\", \"title\", \"genres\"]\n",
    "movies  = movies.drop(0)"
   ]
  },
  {
   "cell_type": "code",
   "execution_count": 4,
   "id": "a5a3d337-701b-4148-9420-73ac1857d127",
   "metadata": {},
   "outputs": [],
   "source": [
    "tags.columns = [\"userid\", \"movieId\", \"tag\", \"timestamp\"]\n",
    "tags = tags.drop(0)"
   ]
  },
  {
   "cell_type": "code",
   "execution_count": 5,
   "id": "b14ff36f-0fc3-4264-afd3-23ea52951a17",
   "metadata": {},
   "outputs": [],
   "source": [
    "links.columns = [\"movieId\", \"imdbID\", \"tmdbID\"]\n",
    "links = links.drop(0)"
   ]
  },
  {
   "cell_type": "code",
   "execution_count": 6,
   "id": "2af62b6f-2ae0-4880-8ad5-b70dad3ce0ba",
   "metadata": {},
   "outputs": [
    {
     "data": {
      "text/plain": [
       "movieId    0\n",
       "title      0\n",
       "genres     0\n",
       "dtype: int64"
      ]
     },
     "execution_count": 6,
     "metadata": {},
     "output_type": "execute_result"
    }
   ],
   "source": [
    "movies.isnull().sum()"
   ]
  },
  {
   "cell_type": "code",
   "execution_count": 7,
   "id": "d30cab1f-c2ce-4a35-8ea7-43dc64040b1e",
   "metadata": {},
   "outputs": [
    {
     "data": {
      "text/plain": [
       "movieId    object\n",
       "title      object\n",
       "genres     object\n",
       "dtype: object"
      ]
     },
     "execution_count": 7,
     "metadata": {},
     "output_type": "execute_result"
    }
   ],
   "source": [
    "movies.dtypes"
   ]
  },
  {
   "cell_type": "code",
   "execution_count": 8,
   "id": "0441fe24-ceb9-4cc9-91dd-24936c43c0c9",
   "metadata": {},
   "outputs": [],
   "source": [
    "movies[\"movieId\"] = movies[\"movieId\"].astype(int)"
   ]
  },
  {
   "cell_type": "code",
   "execution_count": 9,
   "id": "a1d31fcd-3748-45b4-8149-7ce01c8cefdd",
   "metadata": {},
   "outputs": [
    {
     "data": {
      "text/plain": [
       "userid        0\n",
       "movieId       0\n",
       "tag          17\n",
       "timestamp     0\n",
       "dtype: int64"
      ]
     },
     "execution_count": 9,
     "metadata": {},
     "output_type": "execute_result"
    }
   ],
   "source": [
    "tags.isnull().sum()"
   ]
  },
  {
   "cell_type": "code",
   "execution_count": 10,
   "id": "8c1d7497-c186-4914-8bca-e739596a9747",
   "metadata": {},
   "outputs": [],
   "source": [
    "tags.movieId = tags.movieId.astype(int)"
   ]
  },
  {
   "cell_type": "code",
   "execution_count": 11,
   "id": "25533049-c987-4afc-a818-f556fecf6d56",
   "metadata": {},
   "outputs": [],
   "source": [
    "tags.userid = tags.userid.astype(int)"
   ]
  },
  {
   "cell_type": "code",
   "execution_count": 12,
   "id": "5cd367f4-ca77-43c5-8f01-c1870d280fd2",
   "metadata": {},
   "outputs": [
    {
     "data": {
      "text/plain": [
       "userid        int32\n",
       "movieId       int32\n",
       "tag          object\n",
       "timestamp    object\n",
       "dtype: object"
      ]
     },
     "execution_count": 12,
     "metadata": {},
     "output_type": "execute_result"
    }
   ],
   "source": [
    "tags.dtypes"
   ]
  },
  {
   "cell_type": "code",
   "execution_count": 13,
   "id": "e4d1f058-5ed6-4cdc-9c60-6765da789f7e",
   "metadata": {},
   "outputs": [
    {
     "data": {
      "text/plain": [
       "1          1583038886\n",
       "2          1581476297\n",
       "3          1622483469\n",
       "4          1249808064\n",
       "5          1249808102\n",
       "              ...    \n",
       "2000068    1320817734\n",
       "2000069    1322337407\n",
       "2000070    1322337400\n",
       "2000071    1325828398\n",
       "2000072    1373095449\n",
       "Name: timestamp, Length: 2000072, dtype: object"
      ]
     },
     "execution_count": 13,
     "metadata": {},
     "output_type": "execute_result"
    }
   ],
   "source": [
    "tags.timestamp"
   ]
  },
  {
   "cell_type": "code",
   "execution_count": 14,
   "id": "30fcb264-f663-4373-9860-446bf8f6eb44",
   "metadata": {},
   "outputs": [],
   "source": [
    "tags[\"timestamp\"] = pd.to_numeric(tags[\"timestamp\"], errors=\"coerce\")\n",
    "tags[\"timestamp\"] = pd.to_datetime(tags[\"timestamp\"], unit=\"s\")"
   ]
  },
  {
   "cell_type": "code",
   "execution_count": 15,
   "id": "b72d343f-20d2-4dd8-b9a0-0919b28ecc09",
   "metadata": {},
   "outputs": [],
   "source": [
    "tags = tags.dropna(subset = [\"tag\"])"
   ]
  },
  {
   "cell_type": "code",
   "execution_count": 16,
   "id": "a5322217-96d5-44d1-a7ba-48f8a84c4000",
   "metadata": {},
   "outputs": [
    {
     "data": {
      "text/plain": [
       "userid       0\n",
       "movieId      0\n",
       "tag          0\n",
       "timestamp    0\n",
       "dtype: int64"
      ]
     },
     "execution_count": 16,
     "metadata": {},
     "output_type": "execute_result"
    }
   ],
   "source": [
    "tags.isnull().sum()"
   ]
  },
  {
   "cell_type": "code",
   "execution_count": 17,
   "id": "666b4dd8-aaa4-4792-8f65-7586bb1e9950",
   "metadata": {},
   "outputs": [
    {
     "data": {
      "text/plain": [
       "movieId    object\n",
       "imdbID     object\n",
       "tmdbID     object\n",
       "dtype: object"
      ]
     },
     "execution_count": 17,
     "metadata": {},
     "output_type": "execute_result"
    }
   ],
   "source": [
    "links.dtypes"
   ]
  },
  {
   "cell_type": "code",
   "execution_count": 18,
   "id": "53520e93-308d-4e0a-b969-8ca654124c33",
   "metadata": {},
   "outputs": [],
   "source": [
    "links[\"movieId\"] = links[\"movieId\"].astype(int)"
   ]
  },
  {
   "cell_type": "code",
   "execution_count": 19,
   "id": "9017a607-6dfc-43fb-b1a5-c9c07ae38059",
   "metadata": {},
   "outputs": [],
   "source": [
    "links[\"imdbID\"] = links[\"imdbID\"].astype(int)"
   ]
  },
  {
   "cell_type": "code",
   "execution_count": 20,
   "id": "fcfc2bbc-9034-4b88-8782-58f0cd066f62",
   "metadata": {},
   "outputs": [],
   "source": [
    "links = links.dropna(subset = [\"tmdbID\"])"
   ]
  },
  {
   "cell_type": "code",
   "execution_count": 21,
   "id": "c3b4f488-0dab-4631-a1bc-3840b3c160e7",
   "metadata": {},
   "outputs": [],
   "source": [
    "links[\"tmdbID\"] = links[\"tmdbID\"].astype(int)"
   ]
  },
  {
   "cell_type": "code",
   "execution_count": 22,
   "id": "f46d51ca-b690-4733-b0e0-cc1fd3c63e5b",
   "metadata": {},
   "outputs": [
    {
     "data": {
      "text/plain": [
       "(2000055, 4)"
      ]
     },
     "execution_count": 22,
     "metadata": {},
     "output_type": "execute_result"
    }
   ],
   "source": [
    "tags.shape"
   ]
  },
  {
   "cell_type": "code",
   "execution_count": 23,
   "id": "caae7828-d457-42ef-a996-0fbad89b4907",
   "metadata": {},
   "outputs": [
    {
     "data": {
      "text/html": [
       "<div>\n",
       "<style scoped>\n",
       "    .dataframe tbody tr th:only-of-type {\n",
       "        vertical-align: middle;\n",
       "    }\n",
       "\n",
       "    .dataframe tbody tr th {\n",
       "        vertical-align: top;\n",
       "    }\n",
       "\n",
       "    .dataframe thead th {\n",
       "        text-align: right;\n",
       "    }\n",
       "</style>\n",
       "<table border=\"1\" class=\"dataframe\">\n",
       "  <thead>\n",
       "    <tr style=\"text-align: right;\">\n",
       "      <th></th>\n",
       "      <th>0</th>\n",
       "      <th>1</th>\n",
       "      <th>2</th>\n",
       "      <th>3</th>\n",
       "    </tr>\n",
       "  </thead>\n",
       "  <tbody>\n",
       "    <tr>\n",
       "      <th>0</th>\n",
       "      <td>userId</td>\n",
       "      <td>movieId</td>\n",
       "      <td>rating</td>\n",
       "      <td>timestamp</td>\n",
       "    </tr>\n",
       "    <tr>\n",
       "      <th>1</th>\n",
       "      <td>1</td>\n",
       "      <td>17</td>\n",
       "      <td>4.0</td>\n",
       "      <td>944249077</td>\n",
       "    </tr>\n",
       "    <tr>\n",
       "      <th>2</th>\n",
       "      <td>1</td>\n",
       "      <td>25</td>\n",
       "      <td>1.0</td>\n",
       "      <td>944250228</td>\n",
       "    </tr>\n",
       "    <tr>\n",
       "      <th>3</th>\n",
       "      <td>1</td>\n",
       "      <td>29</td>\n",
       "      <td>2.0</td>\n",
       "      <td>943230976</td>\n",
       "    </tr>\n",
       "    <tr>\n",
       "      <th>4</th>\n",
       "      <td>1</td>\n",
       "      <td>30</td>\n",
       "      <td>5.0</td>\n",
       "      <td>944249077</td>\n",
       "    </tr>\n",
       "    <tr>\n",
       "      <th>...</th>\n",
       "      <td>...</td>\n",
       "      <td>...</td>\n",
       "      <td>...</td>\n",
       "      <td>...</td>\n",
       "    </tr>\n",
       "    <tr>\n",
       "      <th>2500050</th>\n",
       "      <td>15875</td>\n",
       "      <td>527</td>\n",
       "      <td>4.0</td>\n",
       "      <td>1442418608</td>\n",
       "    </tr>\n",
       "    <tr>\n",
       "      <th>2500051</th>\n",
       "      <td>15875</td>\n",
       "      <td>529</td>\n",
       "      <td>4.0</td>\n",
       "      <td>1451497671</td>\n",
       "    </tr>\n",
       "    <tr>\n",
       "      <th>2500052</th>\n",
       "      <td>15875</td>\n",
       "      <td>531</td>\n",
       "      <td>3.0</td>\n",
       "      <td>1454005177</td>\n",
       "    </tr>\n",
       "    <tr>\n",
       "      <th>2500053</th>\n",
       "      <td>15875</td>\n",
       "      <td>532</td>\n",
       "      <td>2.5</td>\n",
       "      <td>1458556759</td>\n",
       "    </tr>\n",
       "    <tr>\n",
       "      <th>2500054</th>\n",
       "      <td>15875</td>\n",
       "      <td>533</td>\n",
       "      <td>2.0</td>\n",
       "      <td>1472897168</td>\n",
       "    </tr>\n",
       "  </tbody>\n",
       "</table>\n",
       "<p>2500055 rows × 4 columns</p>\n",
       "</div>"
      ],
      "text/plain": [
       "              0        1       2           3\n",
       "0        userId  movieId  rating   timestamp\n",
       "1             1       17     4.0   944249077\n",
       "2             1       25     1.0   944250228\n",
       "3             1       29     2.0   943230976\n",
       "4             1       30     5.0   944249077\n",
       "...         ...      ...     ...         ...\n",
       "2500050   15875      527     4.0  1442418608\n",
       "2500051   15875      529     4.0  1451497671\n",
       "2500052   15875      531     3.0  1454005177\n",
       "2500053   15875      532     2.5  1458556759\n",
       "2500054   15875      533     2.0  1472897168\n",
       "\n",
       "[2500055 rows x 4 columns]"
      ]
     },
     "execution_count": 23,
     "metadata": {},
     "output_type": "execute_result"
    }
   ],
   "source": [
    "ratings"
   ]
  },
  {
   "cell_type": "code",
   "execution_count": 24,
   "id": "143b66c0-8900-45ca-9fe9-615f20aa4ec3",
   "metadata": {},
   "outputs": [],
   "source": [
    "ratings.columns = [\"userID\", \"movieId\", \"rating\", \"timestamp\"] "
   ]
  },
  {
   "cell_type": "code",
   "execution_count": 25,
   "id": "1f7f2b8e-b611-4fc0-a8a2-b4a3240437f7",
   "metadata": {},
   "outputs": [],
   "source": [
    "ratings = ratings.drop(0)"
   ]
  },
  {
   "cell_type": "code",
   "execution_count": 26,
   "id": "0484dfec-ddd1-4717-8626-06fe8ff0fc9c",
   "metadata": {},
   "outputs": [
    {
     "data": {
      "text/plain": [
       "userID       object\n",
       "movieId      object\n",
       "rating       object\n",
       "timestamp    object\n",
       "dtype: object"
      ]
     },
     "execution_count": 26,
     "metadata": {},
     "output_type": "execute_result"
    }
   ],
   "source": [
    "ratings.dtypes"
   ]
  },
  {
   "cell_type": "code",
   "execution_count": 27,
   "id": "3266b283-dadd-492b-89fe-5b58dcc2e9bb",
   "metadata": {},
   "outputs": [],
   "source": [
    "ratings[\"userID\"] = ratings[\"userID\"].astype(int)\n",
    "ratings[\"movieId\"] = ratings[\"movieId\"].astype(int)\n",
    "ratings[\"rating\"] = ratings[\"rating\"].astype(float)"
   ]
  },
  {
   "cell_type": "code",
   "execution_count": 28,
   "id": "410958e0-f95f-41a3-933f-f4de4ddcb2e5",
   "metadata": {},
   "outputs": [],
   "source": [
    "ratings[\"timestamp\"] = pd.to_numeric(ratings[\"timestamp\"], errors=\"coerce\")\n",
    "ratings[\"timestamp\"] = pd.to_datetime(ratings[\"timestamp\"], unit=\"s\")"
   ]
  },
  {
   "cell_type": "markdown",
   "id": "51e4c42d-424a-46f7-b27e-14c3b51fda39",
   "metadata": {},
   "source": [
    "### Análisis exploratorio"
   ]
  },
  {
   "cell_type": "code",
   "execution_count": 29,
   "id": "c2cfb718-ef36-4f72-8c76-4cffd8782979",
   "metadata": {},
   "outputs": [],
   "source": [
    "df = pd.merge(ratings, movies, on = \"movieId\", how = \"inner\")"
   ]
  },
  {
   "cell_type": "code",
   "execution_count": 30,
   "id": "6382b79d-ea17-428b-9c5b-146070333806",
   "metadata": {},
   "outputs": [
    {
     "data": {
      "text/html": [
       "<div>\n",
       "<style scoped>\n",
       "    .dataframe tbody tr th:only-of-type {\n",
       "        vertical-align: middle;\n",
       "    }\n",
       "\n",
       "    .dataframe tbody tr th {\n",
       "        vertical-align: top;\n",
       "    }\n",
       "\n",
       "    .dataframe thead th {\n",
       "        text-align: right;\n",
       "    }\n",
       "</style>\n",
       "<table border=\"1\" class=\"dataframe\">\n",
       "  <thead>\n",
       "    <tr style=\"text-align: right;\">\n",
       "      <th></th>\n",
       "      <th>userID</th>\n",
       "      <th>movieId</th>\n",
       "      <th>rating</th>\n",
       "      <th>timestamp</th>\n",
       "      <th>title</th>\n",
       "      <th>genres</th>\n",
       "    </tr>\n",
       "  </thead>\n",
       "  <tbody>\n",
       "    <tr>\n",
       "      <th>0</th>\n",
       "      <td>1</td>\n",
       "      <td>17</td>\n",
       "      <td>4.0</td>\n",
       "      <td>1999-12-03 19:24:37</td>\n",
       "      <td>Sense and Sensibility (1995)</td>\n",
       "      <td>Drama|Romance</td>\n",
       "    </tr>\n",
       "    <tr>\n",
       "      <th>1</th>\n",
       "      <td>1</td>\n",
       "      <td>25</td>\n",
       "      <td>1.0</td>\n",
       "      <td>1999-12-03 19:43:48</td>\n",
       "      <td>Leaving Las Vegas (1995)</td>\n",
       "      <td>Drama|Romance</td>\n",
       "    </tr>\n",
       "    <tr>\n",
       "      <th>2</th>\n",
       "      <td>1</td>\n",
       "      <td>29</td>\n",
       "      <td>2.0</td>\n",
       "      <td>1999-11-22 00:36:16</td>\n",
       "      <td>City of Lost Children, The (Cité des enfants p...</td>\n",
       "      <td>Adventure|Drama|Fantasy|Mystery|Sci-Fi</td>\n",
       "    </tr>\n",
       "    <tr>\n",
       "      <th>3</th>\n",
       "      <td>1</td>\n",
       "      <td>30</td>\n",
       "      <td>5.0</td>\n",
       "      <td>1999-12-03 19:24:37</td>\n",
       "      <td>Shanghai Triad (Yao a yao yao dao waipo qiao) ...</td>\n",
       "      <td>Crime|Drama</td>\n",
       "    </tr>\n",
       "    <tr>\n",
       "      <th>4</th>\n",
       "      <td>1</td>\n",
       "      <td>32</td>\n",
       "      <td>5.0</td>\n",
       "      <td>1999-11-22 00:00:58</td>\n",
       "      <td>Twelve Monkeys (a.k.a. 12 Monkeys) (1995)</td>\n",
       "      <td>Mystery|Sci-Fi|Thriller</td>\n",
       "    </tr>\n",
       "    <tr>\n",
       "      <th>...</th>\n",
       "      <td>...</td>\n",
       "      <td>...</td>\n",
       "      <td>...</td>\n",
       "      <td>...</td>\n",
       "      <td>...</td>\n",
       "      <td>...</td>\n",
       "    </tr>\n",
       "    <tr>\n",
       "      <th>2500049</th>\n",
       "      <td>15875</td>\n",
       "      <td>527</td>\n",
       "      <td>4.0</td>\n",
       "      <td>2015-09-16 15:50:08</td>\n",
       "      <td>Schindler's List (1993)</td>\n",
       "      <td>Drama|War</td>\n",
       "    </tr>\n",
       "    <tr>\n",
       "      <th>2500050</th>\n",
       "      <td>15875</td>\n",
       "      <td>529</td>\n",
       "      <td>4.0</td>\n",
       "      <td>2015-12-30 17:47:51</td>\n",
       "      <td>Searching for Bobby Fischer (1993)</td>\n",
       "      <td>Drama</td>\n",
       "    </tr>\n",
       "    <tr>\n",
       "      <th>2500051</th>\n",
       "      <td>15875</td>\n",
       "      <td>531</td>\n",
       "      <td>3.0</td>\n",
       "      <td>2016-01-28 18:19:37</td>\n",
       "      <td>Secret Garden, The (1993)</td>\n",
       "      <td>Children|Drama</td>\n",
       "    </tr>\n",
       "    <tr>\n",
       "      <th>2500052</th>\n",
       "      <td>15875</td>\n",
       "      <td>532</td>\n",
       "      <td>2.5</td>\n",
       "      <td>2016-03-21 10:39:19</td>\n",
       "      <td>Serial Mom (1994)</td>\n",
       "      <td>Comedy|Crime|Horror</td>\n",
       "    </tr>\n",
       "    <tr>\n",
       "      <th>2500053</th>\n",
       "      <td>15875</td>\n",
       "      <td>533</td>\n",
       "      <td>2.0</td>\n",
       "      <td>2016-09-03 10:06:08</td>\n",
       "      <td>Shadow, The (1994)</td>\n",
       "      <td>Action|Adventure|Fantasy|Mystery</td>\n",
       "    </tr>\n",
       "  </tbody>\n",
       "</table>\n",
       "<p>2500054 rows × 6 columns</p>\n",
       "</div>"
      ],
      "text/plain": [
       "         userID  movieId  rating           timestamp  \\\n",
       "0             1       17     4.0 1999-12-03 19:24:37   \n",
       "1             1       25     1.0 1999-12-03 19:43:48   \n",
       "2             1       29     2.0 1999-11-22 00:36:16   \n",
       "3             1       30     5.0 1999-12-03 19:24:37   \n",
       "4             1       32     5.0 1999-11-22 00:00:58   \n",
       "...         ...      ...     ...                 ...   \n",
       "2500049   15875      527     4.0 2015-09-16 15:50:08   \n",
       "2500050   15875      529     4.0 2015-12-30 17:47:51   \n",
       "2500051   15875      531     3.0 2016-01-28 18:19:37   \n",
       "2500052   15875      532     2.5 2016-03-21 10:39:19   \n",
       "2500053   15875      533     2.0 2016-09-03 10:06:08   \n",
       "\n",
       "                                                     title  \\\n",
       "0                             Sense and Sensibility (1995)   \n",
       "1                                 Leaving Las Vegas (1995)   \n",
       "2        City of Lost Children, The (Cité des enfants p...   \n",
       "3        Shanghai Triad (Yao a yao yao dao waipo qiao) ...   \n",
       "4                Twelve Monkeys (a.k.a. 12 Monkeys) (1995)   \n",
       "...                                                    ...   \n",
       "2500049                            Schindler's List (1993)   \n",
       "2500050                 Searching for Bobby Fischer (1993)   \n",
       "2500051                          Secret Garden, The (1993)   \n",
       "2500052                                  Serial Mom (1994)   \n",
       "2500053                                 Shadow, The (1994)   \n",
       "\n",
       "                                         genres  \n",
       "0                                 Drama|Romance  \n",
       "1                                 Drama|Romance  \n",
       "2        Adventure|Drama|Fantasy|Mystery|Sci-Fi  \n",
       "3                                   Crime|Drama  \n",
       "4                       Mystery|Sci-Fi|Thriller  \n",
       "...                                         ...  \n",
       "2500049                               Drama|War  \n",
       "2500050                                   Drama  \n",
       "2500051                          Children|Drama  \n",
       "2500052                     Comedy|Crime|Horror  \n",
       "2500053        Action|Adventure|Fantasy|Mystery  \n",
       "\n",
       "[2500054 rows x 6 columns]"
      ]
     },
     "execution_count": 30,
     "metadata": {},
     "output_type": "execute_result"
    }
   ],
   "source": [
    "df"
   ]
  },
  {
   "cell_type": "code",
   "execution_count": 31,
   "id": "8dad12a0-6640-46b1-b196-e6a9ceb50414",
   "metadata": {},
   "outputs": [
    {
     "data": {
      "text/plain": [
       "title\n",
       "Shawshank Redemption, The (1994)                             8157\n",
       "Forrest Gump (1994)                                          7892\n",
       "Pulp Fiction (1994)                                          7753\n",
       "Matrix, The (1999)                                           7377\n",
       "Silence of the Lambs, The (1991)                             7135\n",
       "Star Wars: Episode IV - A New Hope (1977)                    6744\n",
       "Fight Club (1999)                                            6044\n",
       "Jurassic Park (1993)                                         5988\n",
       "Lord of the Rings: The Fellowship of the Ring, The (2001)    5806\n",
       "Schindler's List (1993)                                      5741\n",
       "Name: count, dtype: int64"
      ]
     },
     "execution_count": 31,
     "metadata": {},
     "output_type": "execute_result"
    }
   ],
   "source": [
    "df[\"title\"].value_counts().head(10)"
   ]
  },
  {
   "cell_type": "code",
   "execution_count": 32,
   "id": "a598527f-cc09-4b5b-b0c9-7fbbe8aef4f5",
   "metadata": {},
   "outputs": [
    {
     "data": {
      "text/plain": [
       "<Axes: xlabel='rating', ylabel='count'>"
      ]
     },
     "execution_count": 32,
     "metadata": {},
     "output_type": "execute_result"
    },
    {
     "data": {
      "image/png": "[encoded data removed]",
      "text/plain": [
       "<Figure size 640x480 with 1 Axes>"
      ]
     },
     "metadata": {},
     "output_type": "display_data"
    }
   ],
   "source": [
    "sns.countplot(x = df.rating)"
   ]
  },
  {
   "cell_type": "code",
   "execution_count": 33,
   "id": "b061bb59-def3-4642-83f7-9cd281d79f9c",
   "metadata": {},
   "outputs": [
    {
     "data": {
      "text/plain": [
       "userID       0\n",
       "movieId      0\n",
       "rating       0\n",
       "timestamp    0\n",
       "title        0\n",
       "genres       0\n",
       "dtype: int64"
      ]
     },
     "execution_count": 33,
     "metadata": {},
     "output_type": "execute_result"
    }
   ],
   "source": [
    "df.isnull().sum()"
   ]
  },
  {
   "cell_type": "code",
   "execution_count": 34,
   "id": "73863d3a-0ac6-4ca2-a122-864dabe42e2a",
   "metadata": {},
   "outputs": [
    {
     "data": {
      "text/plain": [
       "Timestamp('2023-10-13 00:38:42')"
      ]
     },
     "execution_count": 34,
     "metadata": {},
     "output_type": "execute_result"
    }
   ],
   "source": [
    "df.timestamp.max()"
   ]
  },
  {
   "cell_type": "code",
   "execution_count": 35,
   "id": "2b1d9b42-698d-4dfc-bf52-c850bc7a8b76",
   "metadata": {},
   "outputs": [
    {
     "data": {
      "text/plain": [
       "Timestamp('1996-02-28 07:14:37')"
      ]
     },
     "execution_count": 35,
     "metadata": {},
     "output_type": "execute_result"
    }
   ],
   "source": [
    "df.timestamp.min()"
   ]
  },
  {
   "cell_type": "code",
   "execution_count": 42,
   "id": "72d6cc6b-98f3-4c91-b6ac-1c7418f18d40",
   "metadata": {},
   "outputs": [],
   "source": [
    "PeliculasPuntuadas = df.groupby(\"movieId\").agg(conteo_rating = (\"rating\", \"mean\"))"
   ]
  },
  {
   "cell_type": "code",
   "execution_count": 43,
   "id": "04d9701d-1940-401f-b46e-4c7d15b218ab",
   "metadata": {},
   "outputs": [
    {
     "data": {
      "text/html": [
       "<div>\n",
       "<style scoped>\n",
       "    .dataframe tbody tr th:only-of-type {\n",
       "        vertical-align: middle;\n",
       "    }\n",
       "\n",
       "    .dataframe tbody tr th {\n",
       "        vertical-align: top;\n",
       "    }\n",
       "\n",
       "    .dataframe thead th {\n",
       "        text-align: right;\n",
       "    }\n",
       "</style>\n",
       "<table border=\"1\" class=\"dataframe\">\n",
       "  <thead>\n",
       "    <tr style=\"text-align: right;\">\n",
       "      <th></th>\n",
       "      <th>conteo_rating</th>\n",
       "    </tr>\n",
       "    <tr>\n",
       "      <th>movieId</th>\n",
       "      <th></th>\n",
       "    </tr>\n",
       "  </thead>\n",
       "  <tbody>\n",
       "    <tr>\n",
       "      <th>1</th>\n",
       "      <td>3.889164</td>\n",
       "    </tr>\n",
       "    <tr>\n",
       "      <th>2</th>\n",
       "      <td>3.303309</td>\n",
       "    </tr>\n",
       "    <tr>\n",
       "      <th>3</th>\n",
       "      <td>3.153696</td>\n",
       "    </tr>\n",
       "    <tr>\n",
       "      <th>4</th>\n",
       "      <td>2.850000</td>\n",
       "    </tr>\n",
       "    <tr>\n",
       "      <th>5</th>\n",
       "      <td>3.052094</td>\n",
       "    </tr>\n",
       "    <tr>\n",
       "      <th>...</th>\n",
       "      <td>...</td>\n",
       "    </tr>\n",
       "    <tr>\n",
       "      <th>292343</th>\n",
       "      <td>3.000000</td>\n",
       "    </tr>\n",
       "    <tr>\n",
       "      <th>292349</th>\n",
       "      <td>2.666667</td>\n",
       "    </tr>\n",
       "    <tr>\n",
       "      <th>292467</th>\n",
       "      <td>0.500000</td>\n",
       "    </tr>\n",
       "    <tr>\n",
       "      <th>292529</th>\n",
       "      <td>2.500000</td>\n",
       "    </tr>\n",
       "    <tr>\n",
       "      <th>292619</th>\n",
       "      <td>2.000000</td>\n",
       "    </tr>\n",
       "  </tbody>\n",
       "</table>\n",
       "<p>39678 rows × 1 columns</p>\n",
       "</div>"
      ],
      "text/plain": [
       "         conteo_rating\n",
       "movieId               \n",
       "1             3.889164\n",
       "2             3.303309\n",
       "3             3.153696\n",
       "4             2.850000\n",
       "5             3.052094\n",
       "...                ...\n",
       "292343        3.000000\n",
       "292349        2.666667\n",
       "292467        0.500000\n",
       "292529        2.500000\n",
       "292619        2.000000\n",
       "\n",
       "[39678 rows x 1 columns]"
      ]
     },
     "execution_count": 43,
     "metadata": {},
     "output_type": "execute_result"
    }
   ],
   "source": [
    "PeliculasPuntuadas"
   ]
  },
  {
   "cell_type": "code",
   "execution_count": 44,
   "id": "d723b634-cac0-4ead-99e1-a9a06afb3f73",
   "metadata": {},
   "outputs": [
    {
     "data": {
      "text/plain": [
       "<Axes: xlabel='conteo_rating', ylabel='Count'>"
      ]
     },
     "execution_count": 44,
     "metadata": {},
     "output_type": "execute_result"
    },
    {
     "data": {
      "image/png": "[encoded data removed]",
      "text/plain": [
       "<Figure size 640x480 with 1 Axes>"
      ]
     },
     "metadata": {},
     "output_type": "display_data"
    }
   ],
   "source": [
    "sns.histplot(PeliculasPuntuadas[\"conteo_rating\"])"
   ]
  },
  {
   "cell_type": "code",
   "execution_count": 67,
   "id": "5a5f9331-c50d-4f6c-b980-9721a76e4c83",
   "metadata": {},
   "outputs": [],
   "source": [
    "# Cuantas peronas vieron cada películas\n",
    "peliculasxusuarios = df.groupby(\"movieId\").agg(personas = (\"userID\", \"count\")).reset_index()"
   ]
  },
  {
   "cell_type": "code",
   "execution_count": 65,
   "id": "d1b96089-1e4f-47d4-b2a4-2fa5a32c20ab",
   "metadata": {},
   "outputs": [
    {
     "data": {
      "image/png": "[encoded data removed]",
      "text/plain": [
       "<Figure size 640x480 with 1 Axes>"
      ]
     },
     "metadata": {},
     "output_type": "display_data"
    }
   ],
   "source": [
    "sns.histplot(peliculasxusuarios[\"personas\"], bins=50, kde=False)\n",
    "plt.xlabel(\"Cantidad de usuarios por película\")\n",
    "plt.ylabel(\"Número de películas\")\n",
    "plt.title(\"Distribución de número de usuarios por película\")\n",
    "plt.xlim(0, 1500)   \n",
    "plt.ylim(0, 2000)   \n",
    "\n",
    "plt.show()"
   ]
  },
  {
   "cell_type": "code",
   "execution_count": 68,
   "id": "19a018f8-ff71-4ce8-bd3e-34d9ab9cbb20",
   "metadata": {},
   "outputs": [
    {
     "data": {
      "text/html": [
       "<div>\n",
       "<style scoped>\n",
       "    .dataframe tbody tr th:only-of-type {\n",
       "        vertical-align: middle;\n",
       "    }\n",
       "\n",
       "    .dataframe tbody tr th {\n",
       "        vertical-align: top;\n",
       "    }\n",
       "\n",
       "    .dataframe thead th {\n",
       "        text-align: right;\n",
       "    }\n",
       "</style>\n",
       "<table border=\"1\" class=\"dataframe\">\n",
       "  <thead>\n",
       "    <tr style=\"text-align: right;\">\n",
       "      <th></th>\n",
       "      <th>movieId</th>\n",
       "      <th>personas</th>\n",
       "    </tr>\n",
       "  </thead>\n",
       "  <tbody>\n",
       "    <tr>\n",
       "      <th>0</th>\n",
       "      <td>1</td>\n",
       "      <td>5454</td>\n",
       "    </tr>\n",
       "    <tr>\n",
       "      <th>1</th>\n",
       "      <td>2</td>\n",
       "      <td>2176</td>\n",
       "    </tr>\n",
       "    <tr>\n",
       "      <th>2</th>\n",
       "      <td>3</td>\n",
       "      <td>1028</td>\n",
       "    </tr>\n",
       "    <tr>\n",
       "      <th>3</th>\n",
       "      <td>4</td>\n",
       "      <td>220</td>\n",
       "    </tr>\n",
       "    <tr>\n",
       "      <th>4</th>\n",
       "      <td>5</td>\n",
       "      <td>979</td>\n",
       "    </tr>\n",
       "    <tr>\n",
       "      <th>...</th>\n",
       "      <td>...</td>\n",
       "      <td>...</td>\n",
       "    </tr>\n",
       "    <tr>\n",
       "      <th>39673</th>\n",
       "      <td>292343</td>\n",
       "      <td>1</td>\n",
       "    </tr>\n",
       "    <tr>\n",
       "      <th>39674</th>\n",
       "      <td>292349</td>\n",
       "      <td>3</td>\n",
       "    </tr>\n",
       "    <tr>\n",
       "      <th>39675</th>\n",
       "      <td>292467</td>\n",
       "      <td>1</td>\n",
       "    </tr>\n",
       "    <tr>\n",
       "      <th>39676</th>\n",
       "      <td>292529</td>\n",
       "      <td>1</td>\n",
       "    </tr>\n",
       "    <tr>\n",
       "      <th>39677</th>\n",
       "      <td>292619</td>\n",
       "      <td>1</td>\n",
       "    </tr>\n",
       "  </tbody>\n",
       "</table>\n",
       "<p>39678 rows × 2 columns</p>\n",
       "</div>"
      ],
      "text/plain": [
       "       movieId  personas\n",
       "0            1      5454\n",
       "1            2      2176\n",
       "2            3      1028\n",
       "3            4       220\n",
       "4            5       979\n",
       "...        ...       ...\n",
       "39673   292343         1\n",
       "39674   292349         3\n",
       "39675   292467         1\n",
       "39676   292529         1\n",
       "39677   292619         1\n",
       "\n",
       "[39678 rows x 2 columns]"
      ]
     },
     "execution_count": 68,
     "metadata": {},
     "output_type": "execute_result"
    }
   ],
   "source": [
    "peliculasxusuarios"
   ]
  },
  {
   "cell_type": "code",
   "execution_count": 73,
   "id": "cc239c9b-275a-4756-b8f5-34dbb1ba8a71",
   "metadata": {},
   "outputs": [],
   "source": [
    "# Cuantas peliculas vió cada usuario\n",
    "usuarioxpelicula = df.groupby(\"userID\").agg(peliculas = (\"movieId\", \"count\")).reset_index()"
   ]
  },
  {
   "cell_type": "code",
   "execution_count": 74,
   "id": "690dcf97-ebef-4005-bcf7-3630a56c82ab",
   "metadata": {},
   "outputs": [
    {
     "data": {
      "text/html": [
       "<div>\n",
       "<style scoped>\n",
       "    .dataframe tbody tr th:only-of-type {\n",
       "        vertical-align: middle;\n",
       "    }\n",
       "\n",
       "    .dataframe tbody tr th {\n",
       "        vertical-align: top;\n",
       "    }\n",
       "\n",
       "    .dataframe thead th {\n",
       "        text-align: right;\n",
       "    }\n",
       "</style>\n",
       "<table border=\"1\" class=\"dataframe\">\n",
       "  <thead>\n",
       "    <tr style=\"text-align: right;\">\n",
       "      <th></th>\n",
       "      <th>userID</th>\n",
       "      <th>peliculas</th>\n",
       "    </tr>\n",
       "  </thead>\n",
       "  <tbody>\n",
       "    <tr>\n",
       "      <th>0</th>\n",
       "      <td>1</td>\n",
       "      <td>141</td>\n",
       "    </tr>\n",
       "    <tr>\n",
       "      <th>1</th>\n",
       "      <td>2</td>\n",
       "      <td>52</td>\n",
       "    </tr>\n",
       "    <tr>\n",
       "      <th>2</th>\n",
       "      <td>3</td>\n",
       "      <td>147</td>\n",
       "    </tr>\n",
       "    <tr>\n",
       "      <th>3</th>\n",
       "      <td>4</td>\n",
       "      <td>27</td>\n",
       "    </tr>\n",
       "    <tr>\n",
       "      <th>4</th>\n",
       "      <td>5</td>\n",
       "      <td>33</td>\n",
       "    </tr>\n",
       "    <tr>\n",
       "      <th>...</th>\n",
       "      <td>...</td>\n",
       "      <td>...</td>\n",
       "    </tr>\n",
       "    <tr>\n",
       "      <th>15870</th>\n",
       "      <td>15871</td>\n",
       "      <td>1232</td>\n",
       "    </tr>\n",
       "    <tr>\n",
       "      <th>15871</th>\n",
       "      <td>15872</td>\n",
       "      <td>481</td>\n",
       "    </tr>\n",
       "    <tr>\n",
       "      <th>15872</th>\n",
       "      <td>15873</td>\n",
       "      <td>38</td>\n",
       "    </tr>\n",
       "    <tr>\n",
       "      <th>15873</th>\n",
       "      <td>15874</td>\n",
       "      <td>167</td>\n",
       "    </tr>\n",
       "    <tr>\n",
       "      <th>15874</th>\n",
       "      <td>15875</td>\n",
       "      <td>294</td>\n",
       "    </tr>\n",
       "  </tbody>\n",
       "</table>\n",
       "<p>15875 rows × 2 columns</p>\n",
       "</div>"
      ],
      "text/plain": [
       "       userID  peliculas\n",
       "0           1        141\n",
       "1           2         52\n",
       "2           3        147\n",
       "3           4         27\n",
       "4           5         33\n",
       "...       ...        ...\n",
       "15870   15871       1232\n",
       "15871   15872        481\n",
       "15872   15873         38\n",
       "15873   15874        167\n",
       "15874   15875        294\n",
       "\n",
       "[15875 rows x 2 columns]"
      ]
     },
     "execution_count": 74,
     "metadata": {},
     "output_type": "execute_result"
    }
   ],
   "source": [
    "usuarioxpelicula"
   ]
  },
  {
   "cell_type": "code",
   "execution_count": 76,
   "id": "a8bc7069-cd6b-40e7-abb1-df5cbf3e0333",
   "metadata": {},
   "outputs": [
    {
     "data": {
      "text/plain": [
       "(0.0, 1000.0)"
      ]
     },
     "execution_count": 76,
     "metadata": {},
     "output_type": "execute_result"
    },
    {
     "data": {
      "image/png": "[encoded data removed]",
      "text/plain": [
       "<Figure size 640x480 with 1 Axes>"
      ]
     },
     "metadata": {},
     "output_type": "display_data"
    }
   ],
   "source": [
    "sns.histplot(usuarioxpelicula[\"peliculas\"], bins=50, kde=False)\n",
    "plt.xlabel(\"Cantidad de películas vistas por usuario\")\n",
    "plt.ylabel(\"Número de usuarios\")\n",
    "plt.title(\"Distribución de películas vistas por usuario\")\n",
    "plt.xlim(0, 1000)"
   ]
  },
  {
   "cell_type": "code",
   "execution_count": 81,
   "id": "b2017b2d-0bef-49d0-8196-2708ec9688de",
   "metadata": {},
   "outputs": [
    {
     "ename": "MemoryError",
     "evalue": "Unable to allocate 4.69 GiB for an array with shape (15875, 39678) and data type float64",
     "output_type": "error",
     "traceback": [
      "\u001b[1;31m---------------------------------------------------------------------------\u001b[0m",
      "\u001b[1;31mMemoryError\u001b[0m                               Traceback (most recent call last)",
      "Cell \u001b[1;32mIn[81], line 1\u001b[0m\n\u001b[1;32m----> 1\u001b[0m ratings \u001b[38;5;241m=\u001b[39m df\u001b[38;5;241m.\u001b[39mpivot_table(\n\u001b[0;32m      2\u001b[0m     values \u001b[38;5;241m=\u001b[39m \u001b[38;5;124m\"\u001b[39m\u001b[38;5;124mrating\u001b[39m\u001b[38;5;124m\"\u001b[39m,\n\u001b[0;32m      3\u001b[0m     index \u001b[38;5;241m=\u001b[39m \u001b[38;5;124m\"\u001b[39m\u001b[38;5;124muserID\u001b[39m\u001b[38;5;124m\"\u001b[39m,\n\u001b[0;32m      4\u001b[0m     columns \u001b[38;5;241m=\u001b[39m \u001b[38;5;124m\"\u001b[39m\u001b[38;5;124mmovieId\u001b[39m\u001b[38;5;124m\"\u001b[39m,\n\u001b[0;32m      5\u001b[0m )\n\u001b[0;32m      6\u001b[0m ratings\u001b[38;5;241m.\u001b[39mhead()\n",
      "File \u001b[1;32m~\\anaconda3\\Lib\\site-packages\\pandas\\core\\frame.py:9509\u001b[0m, in \u001b[0;36mDataFrame.pivot_table\u001b[1;34m(self, values, index, columns, aggfunc, fill_value, margins, dropna, margins_name, observed, sort)\u001b[0m\n\u001b[0;32m   9492\u001b[0m \u001b[38;5;129m@Substitution\u001b[39m(\u001b[38;5;124m\"\u001b[39m\u001b[38;5;124m\"\u001b[39m)\n\u001b[0;32m   9493\u001b[0m \u001b[38;5;129m@Appender\u001b[39m(_shared_docs[\u001b[38;5;124m\"\u001b[39m\u001b[38;5;124mpivot_table\u001b[39m\u001b[38;5;124m\"\u001b[39m])\n\u001b[0;32m   9494\u001b[0m \u001b[38;5;28;01mdef\u001b[39;00m \u001b[38;5;21mpivot_table\u001b[39m(\n\u001b[1;32m   (...)\u001b[0m\n\u001b[0;32m   9505\u001b[0m     sort: \u001b[38;5;28mbool\u001b[39m \u001b[38;5;241m=\u001b[39m \u001b[38;5;28;01mTrue\u001b[39;00m,\n\u001b[0;32m   9506\u001b[0m ) \u001b[38;5;241m-\u001b[39m\u001b[38;5;241m>\u001b[39m DataFrame:\n\u001b[0;32m   9507\u001b[0m     \u001b[38;5;28;01mfrom\u001b[39;00m \u001b[38;5;21;01mpandas\u001b[39;00m\u001b[38;5;21;01m.\u001b[39;00m\u001b[38;5;21;01mcore\u001b[39;00m\u001b[38;5;21;01m.\u001b[39;00m\u001b[38;5;21;01mreshape\u001b[39;00m\u001b[38;5;21;01m.\u001b[39;00m\u001b[38;5;21;01mpivot\u001b[39;00m \u001b[38;5;28;01mimport\u001b[39;00m pivot_table\n\u001b[1;32m-> 9509\u001b[0m     \u001b[38;5;28;01mreturn\u001b[39;00m pivot_table(\n\u001b[0;32m   9510\u001b[0m         \u001b[38;5;28mself\u001b[39m,\n\u001b[0;32m   9511\u001b[0m         values\u001b[38;5;241m=\u001b[39mvalues,\n\u001b[0;32m   9512\u001b[0m         index\u001b[38;5;241m=\u001b[39mindex,\n\u001b[0;32m   9513\u001b[0m         columns\u001b[38;5;241m=\u001b[39mcolumns,\n\u001b[0;32m   9514\u001b[0m         aggfunc\u001b[38;5;241m=\u001b[39maggfunc,\n\u001b[0;32m   9515\u001b[0m         fill_value\u001b[38;5;241m=\u001b[39mfill_value,\n\u001b[0;32m   9516\u001b[0m         margins\u001b[38;5;241m=\u001b[39mmargins,\n\u001b[0;32m   9517\u001b[0m         dropna\u001b[38;5;241m=\u001b[39mdropna,\n\u001b[0;32m   9518\u001b[0m         margins_name\u001b[38;5;241m=\u001b[39mmargins_name,\n\u001b[0;32m   9519\u001b[0m         observed\u001b[38;5;241m=\u001b[39mobserved,\n\u001b[0;32m   9520\u001b[0m         sort\u001b[38;5;241m=\u001b[39msort,\n\u001b[0;32m   9521\u001b[0m     )\n",
      "File \u001b[1;32m~\\anaconda3\\Lib\\site-packages\\pandas\\core\\reshape\\pivot.py:102\u001b[0m, in \u001b[0;36mpivot_table\u001b[1;34m(data, values, index, columns, aggfunc, fill_value, margins, dropna, margins_name, observed, sort)\u001b[0m\n\u001b[0;32m     99\u001b[0m     table \u001b[38;5;241m=\u001b[39m concat(pieces, keys\u001b[38;5;241m=\u001b[39mkeys, axis\u001b[38;5;241m=\u001b[39m\u001b[38;5;241m1\u001b[39m)\n\u001b[0;32m    100\u001b[0m     \u001b[38;5;28;01mreturn\u001b[39;00m table\u001b[38;5;241m.\u001b[39m__finalize__(data, method\u001b[38;5;241m=\u001b[39m\u001b[38;5;124m\"\u001b[39m\u001b[38;5;124mpivot_table\u001b[39m\u001b[38;5;124m\"\u001b[39m)\n\u001b[1;32m--> 102\u001b[0m table \u001b[38;5;241m=\u001b[39m __internal_pivot_table(\n\u001b[0;32m    103\u001b[0m     data,\n\u001b[0;32m    104\u001b[0m     values,\n\u001b[0;32m    105\u001b[0m     index,\n\u001b[0;32m    106\u001b[0m     columns,\n\u001b[0;32m    107\u001b[0m     aggfunc,\n\u001b[0;32m    108\u001b[0m     fill_value,\n\u001b[0;32m    109\u001b[0m     margins,\n\u001b[0;32m    110\u001b[0m     dropna,\n\u001b[0;32m    111\u001b[0m     margins_name,\n\u001b[0;32m    112\u001b[0m     observed,\n\u001b[0;32m    113\u001b[0m     sort,\n\u001b[0;32m    114\u001b[0m )\n\u001b[0;32m    115\u001b[0m \u001b[38;5;28;01mreturn\u001b[39;00m table\u001b[38;5;241m.\u001b[39m__finalize__(data, method\u001b[38;5;241m=\u001b[39m\u001b[38;5;124m\"\u001b[39m\u001b[38;5;124mpivot_table\u001b[39m\u001b[38;5;124m\"\u001b[39m)\n",
      "File \u001b[1;32m~\\anaconda3\\Lib\\site-packages\\pandas\\core\\reshape\\pivot.py:203\u001b[0m, in \u001b[0;36m__internal_pivot_table\u001b[1;34m(data, values, index, columns, aggfunc, fill_value, margins, dropna, margins_name, observed, sort)\u001b[0m\n\u001b[0;32m    201\u001b[0m         \u001b[38;5;28;01melse\u001b[39;00m:\n\u001b[0;32m    202\u001b[0m             to_unstack\u001b[38;5;241m.\u001b[39mappend(name)\n\u001b[1;32m--> 203\u001b[0m     table \u001b[38;5;241m=\u001b[39m agged\u001b[38;5;241m.\u001b[39munstack(to_unstack, fill_value\u001b[38;5;241m=\u001b[39mfill_value)\n\u001b[0;32m    205\u001b[0m \u001b[38;5;28;01mif\u001b[39;00m \u001b[38;5;129;01mnot\u001b[39;00m dropna:\n\u001b[0;32m    206\u001b[0m     \u001b[38;5;28;01mif\u001b[39;00m \u001b[38;5;28misinstance\u001b[39m(table\u001b[38;5;241m.\u001b[39mindex, MultiIndex):\n",
      "File \u001b[1;32m~\\anaconda3\\Lib\\site-packages\\pandas\\core\\frame.py:9928\u001b[0m, in \u001b[0;36mDataFrame.unstack\u001b[1;34m(self, level, fill_value, sort)\u001b[0m\n\u001b[0;32m   9864\u001b[0m \u001b[38;5;250m\u001b[39m\u001b[38;5;124;03m\"\"\"\u001b[39;00m\n\u001b[0;32m   9865\u001b[0m \u001b[38;5;124;03mPivot a level of the (necessarily hierarchical) index labels.\u001b[39;00m\n\u001b[0;32m   9866\u001b[0m \n\u001b[1;32m   (...)\u001b[0m\n\u001b[0;32m   9924\u001b[0m \u001b[38;5;124;03mdtype: float64\u001b[39;00m\n\u001b[0;32m   9925\u001b[0m \u001b[38;5;124;03m\"\"\"\u001b[39;00m\n\u001b[0;32m   9926\u001b[0m \u001b[38;5;28;01mfrom\u001b[39;00m \u001b[38;5;21;01mpandas\u001b[39;00m\u001b[38;5;21;01m.\u001b[39;00m\u001b[38;5;21;01mcore\u001b[39;00m\u001b[38;5;21;01m.\u001b[39;00m\u001b[38;5;21;01mreshape\u001b[39;00m\u001b[38;5;21;01m.\u001b[39;00m\u001b[38;5;21;01mreshape\u001b[39;00m \u001b[38;5;28;01mimport\u001b[39;00m unstack\n\u001b[1;32m-> 9928\u001b[0m result \u001b[38;5;241m=\u001b[39m unstack(\u001b[38;5;28mself\u001b[39m, level, fill_value, sort)\n\u001b[0;32m   9930\u001b[0m \u001b[38;5;28;01mreturn\u001b[39;00m result\u001b[38;5;241m.\u001b[39m__finalize__(\u001b[38;5;28mself\u001b[39m, method\u001b[38;5;241m=\u001b[39m\u001b[38;5;124m\"\u001b[39m\u001b[38;5;124munstack\u001b[39m\u001b[38;5;124m\"\u001b[39m)\n",
      "File \u001b[1;32m~\\anaconda3\\Lib\\site-packages\\pandas\\core\\reshape\\reshape.py:504\u001b[0m, in \u001b[0;36munstack\u001b[1;34m(obj, level, fill_value, sort)\u001b[0m\n\u001b[0;32m    502\u001b[0m \u001b[38;5;28;01mif\u001b[39;00m \u001b[38;5;28misinstance\u001b[39m(obj, DataFrame):\n\u001b[0;32m    503\u001b[0m     \u001b[38;5;28;01mif\u001b[39;00m \u001b[38;5;28misinstance\u001b[39m(obj\u001b[38;5;241m.\u001b[39mindex, MultiIndex):\n\u001b[1;32m--> 504\u001b[0m         \u001b[38;5;28;01mreturn\u001b[39;00m _unstack_frame(obj, level, fill_value\u001b[38;5;241m=\u001b[39mfill_value, sort\u001b[38;5;241m=\u001b[39msort)\n\u001b[0;32m    505\u001b[0m     \u001b[38;5;28;01melse\u001b[39;00m:\n\u001b[0;32m    506\u001b[0m         \u001b[38;5;28;01mreturn\u001b[39;00m obj\u001b[38;5;241m.\u001b[39mT\u001b[38;5;241m.\u001b[39mstack(future_stack\u001b[38;5;241m=\u001b[39m\u001b[38;5;28;01mTrue\u001b[39;00m)\n",
      "File \u001b[1;32m~\\anaconda3\\Lib\\site-packages\\pandas\\core\\reshape\\reshape.py:537\u001b[0m, in \u001b[0;36m_unstack_frame\u001b[1;34m(obj, level, fill_value, sort)\u001b[0m\n\u001b[0;32m    535\u001b[0m     \u001b[38;5;28;01mreturn\u001b[39;00m obj\u001b[38;5;241m.\u001b[39m_constructor_from_mgr(mgr, axes\u001b[38;5;241m=\u001b[39mmgr\u001b[38;5;241m.\u001b[39maxes)\n\u001b[0;32m    536\u001b[0m \u001b[38;5;28;01melse\u001b[39;00m:\n\u001b[1;32m--> 537\u001b[0m     \u001b[38;5;28;01mreturn\u001b[39;00m unstacker\u001b[38;5;241m.\u001b[39mget_result(\n\u001b[0;32m    538\u001b[0m         obj\u001b[38;5;241m.\u001b[39m_values, value_columns\u001b[38;5;241m=\u001b[39mobj\u001b[38;5;241m.\u001b[39mcolumns, fill_value\u001b[38;5;241m=\u001b[39mfill_value\n\u001b[0;32m    539\u001b[0m     )\n",
      "File \u001b[1;32m~\\anaconda3\\Lib\\site-packages\\pandas\\core\\reshape\\reshape.py:238\u001b[0m, in \u001b[0;36m_Unstacker.get_result\u001b[1;34m(self, values, value_columns, fill_value)\u001b[0m\n\u001b[0;32m    235\u001b[0m \u001b[38;5;28;01mif\u001b[39;00m value_columns \u001b[38;5;129;01mis\u001b[39;00m \u001b[38;5;28;01mNone\u001b[39;00m \u001b[38;5;129;01mand\u001b[39;00m values\u001b[38;5;241m.\u001b[39mshape[\u001b[38;5;241m1\u001b[39m] \u001b[38;5;241m!=\u001b[39m \u001b[38;5;241m1\u001b[39m:  \u001b[38;5;66;03m# pragma: no cover\u001b[39;00m\n\u001b[0;32m    236\u001b[0m     \u001b[38;5;28;01mraise\u001b[39;00m \u001b[38;5;167;01mValueError\u001b[39;00m(\u001b[38;5;124m\"\u001b[39m\u001b[38;5;124mmust pass column labels for multi-column data\u001b[39m\u001b[38;5;124m\"\u001b[39m)\n\u001b[1;32m--> 238\u001b[0m values, _ \u001b[38;5;241m=\u001b[39m \u001b[38;5;28mself\u001b[39m\u001b[38;5;241m.\u001b[39mget_new_values(values, fill_value)\n\u001b[0;32m    239\u001b[0m columns \u001b[38;5;241m=\u001b[39m \u001b[38;5;28mself\u001b[39m\u001b[38;5;241m.\u001b[39mget_new_columns(value_columns)\n\u001b[0;32m    240\u001b[0m index \u001b[38;5;241m=\u001b[39m \u001b[38;5;28mself\u001b[39m\u001b[38;5;241m.\u001b[39mnew_index\n",
      "File \u001b[1;32m~\\anaconda3\\Lib\\site-packages\\pandas\\core\\reshape\\reshape.py:289\u001b[0m, in \u001b[0;36m_Unstacker.get_new_values\u001b[1;34m(self, values, fill_value)\u001b[0m\n\u001b[0;32m    287\u001b[0m     \u001b[38;5;28;01melse\u001b[39;00m:\n\u001b[0;32m    288\u001b[0m         dtype, fill_value \u001b[38;5;241m=\u001b[39m maybe_promote(dtype, fill_value)\n\u001b[1;32m--> 289\u001b[0m         new_values \u001b[38;5;241m=\u001b[39m np\u001b[38;5;241m.\u001b[39mempty(result_shape, dtype\u001b[38;5;241m=\u001b[39mdtype)\n\u001b[0;32m    290\u001b[0m         new_values\u001b[38;5;241m.\u001b[39mfill(fill_value)\n\u001b[0;32m    292\u001b[0m name \u001b[38;5;241m=\u001b[39m dtype\u001b[38;5;241m.\u001b[39mname\n",
      "\u001b[1;31mMemoryError\u001b[0m: Unable to allocate 4.69 GiB for an array with shape (15875, 39678) and data type float64"
     ]
    }
   ],
   "source": [
    "ratings = df.pivot_table(\n",
    "    values = \"rating\",\n",
    "    index = \"userID\",\n",
    "    columns = \"movieId\",\n",
    ")\n",
    "ratings.head()"
   ]
  },
  {
   "cell_type": "code",
   "execution_count": 78,
   "id": "e4393432-a880-4e08-878a-1cfb647b62a8",
   "metadata": {},
   "outputs": [
    {
     "data": {
      "text/html": [
       "<div>\n",
       "<style scoped>\n",
       "    .dataframe tbody tr th:only-of-type {\n",
       "        vertical-align: middle;\n",
       "    }\n",
       "\n",
       "    .dataframe tbody tr th {\n",
       "        vertical-align: top;\n",
       "    }\n",
       "\n",
       "    .dataframe thead th {\n",
       "        text-align: right;\n",
       "    }\n",
       "</style>\n",
       "<table border=\"1\" class=\"dataframe\">\n",
       "  <thead>\n",
       "    <tr style=\"text-align: right;\">\n",
       "      <th></th>\n",
       "      <th>userID</th>\n",
       "      <th>movieId</th>\n",
       "      <th>rating</th>\n",
       "      <th>timestamp</th>\n",
       "      <th>title</th>\n",
       "      <th>genres</th>\n",
       "    </tr>\n",
       "  </thead>\n",
       "  <tbody>\n",
       "    <tr>\n",
       "      <th>0</th>\n",
       "      <td>1</td>\n",
       "      <td>17</td>\n",
       "      <td>4.0</td>\n",
       "      <td>1999-12-03 19:24:37</td>\n",
       "      <td>Sense and Sensibility (1995)</td>\n",
       "      <td>Drama|Romance</td>\n",
       "    </tr>\n",
       "    <tr>\n",
       "      <th>1</th>\n",
       "      <td>1</td>\n",
       "      <td>25</td>\n",
       "      <td>1.0</td>\n",
       "      <td>1999-12-03 19:43:48</td>\n",
       "      <td>Leaving Las Vegas (1995)</td>\n",
       "      <td>Drama|Romance</td>\n",
       "    </tr>\n",
       "    <tr>\n",
       "      <th>2</th>\n",
       "      <td>1</td>\n",
       "      <td>29</td>\n",
       "      <td>2.0</td>\n",
       "      <td>1999-11-22 00:36:16</td>\n",
       "      <td>City of Lost Children, The (Cité des enfants p...</td>\n",
       "      <td>Adventure|Drama|Fantasy|Mystery|Sci-Fi</td>\n",
       "    </tr>\n",
       "    <tr>\n",
       "      <th>3</th>\n",
       "      <td>1</td>\n",
       "      <td>30</td>\n",
       "      <td>5.0</td>\n",
       "      <td>1999-12-03 19:24:37</td>\n",
       "      <td>Shanghai Triad (Yao a yao yao dao waipo qiao) ...</td>\n",
       "      <td>Crime|Drama</td>\n",
       "    </tr>\n",
       "    <tr>\n",
       "      <th>4</th>\n",
       "      <td>1</td>\n",
       "      <td>32</td>\n",
       "      <td>5.0</td>\n",
       "      <td>1999-11-22 00:00:58</td>\n",
       "      <td>Twelve Monkeys (a.k.a. 12 Monkeys) (1995)</td>\n",
       "      <td>Mystery|Sci-Fi|Thriller</td>\n",
       "    </tr>\n",
       "    <tr>\n",
       "      <th>...</th>\n",
       "      <td>...</td>\n",
       "      <td>...</td>\n",
       "      <td>...</td>\n",
       "      <td>...</td>\n",
       "      <td>...</td>\n",
       "      <td>...</td>\n",
       "    </tr>\n",
       "    <tr>\n",
       "      <th>2500049</th>\n",
       "      <td>15875</td>\n",
       "      <td>527</td>\n",
       "      <td>4.0</td>\n",
       "      <td>2015-09-16 15:50:08</td>\n",
       "      <td>Schindler's List (1993)</td>\n",
       "      <td>Drama|War</td>\n",
       "    </tr>\n",
       "    <tr>\n",
       "      <th>2500050</th>\n",
       "      <td>15875</td>\n",
       "      <td>529</td>\n",
       "      <td>4.0</td>\n",
       "      <td>2015-12-30 17:47:51</td>\n",
       "      <td>Searching for Bobby Fischer (1993)</td>\n",
       "      <td>Drama</td>\n",
       "    </tr>\n",
       "    <tr>\n",
       "      <th>2500051</th>\n",
       "      <td>15875</td>\n",
       "      <td>531</td>\n",
       "      <td>3.0</td>\n",
       "      <td>2016-01-28 18:19:37</td>\n",
       "      <td>Secret Garden, The (1993)</td>\n",
       "      <td>Children|Drama</td>\n",
       "    </tr>\n",
       "    <tr>\n",
       "      <th>2500052</th>\n",
       "      <td>15875</td>\n",
       "      <td>532</td>\n",
       "      <td>2.5</td>\n",
       "      <td>2016-03-21 10:39:19</td>\n",
       "      <td>Serial Mom (1994)</td>\n",
       "      <td>Comedy|Crime|Horror</td>\n",
       "    </tr>\n",
       "    <tr>\n",
       "      <th>2500053</th>\n",
       "      <td>15875</td>\n",
       "      <td>533</td>\n",
       "      <td>2.0</td>\n",
       "      <td>2016-09-03 10:06:08</td>\n",
       "      <td>Shadow, The (1994)</td>\n",
       "      <td>Action|Adventure|Fantasy|Mystery</td>\n",
       "    </tr>\n",
       "  </tbody>\n",
       "</table>\n",
       "<p>2500054 rows × 6 columns</p>\n",
       "</div>"
      ],
      "text/plain": [
       "         userID  movieId  rating           timestamp  \\\n",
       "0             1       17     4.0 1999-12-03 19:24:37   \n",
       "1             1       25     1.0 1999-12-03 19:43:48   \n",
       "2             1       29     2.0 1999-11-22 00:36:16   \n",
       "3             1       30     5.0 1999-12-03 19:24:37   \n",
       "4             1       32     5.0 1999-11-22 00:00:58   \n",
       "...         ...      ...     ...                 ...   \n",
       "2500049   15875      527     4.0 2015-09-16 15:50:08   \n",
       "2500050   15875      529     4.0 2015-12-30 17:47:51   \n",
       "2500051   15875      531     3.0 2016-01-28 18:19:37   \n",
       "2500052   15875      532     2.5 2016-03-21 10:39:19   \n",
       "2500053   15875      533     2.0 2016-09-03 10:06:08   \n",
       "\n",
       "                                                     title  \\\n",
       "0                             Sense and Sensibility (1995)   \n",
       "1                                 Leaving Las Vegas (1995)   \n",
       "2        City of Lost Children, The (Cité des enfants p...   \n",
       "3        Shanghai Triad (Yao a yao yao dao waipo qiao) ...   \n",
       "4                Twelve Monkeys (a.k.a. 12 Monkeys) (1995)   \n",
       "...                                                    ...   \n",
       "2500049                            Schindler's List (1993)   \n",
       "2500050                 Searching for Bobby Fischer (1993)   \n",
       "2500051                          Secret Garden, The (1993)   \n",
       "2500052                                  Serial Mom (1994)   \n",
       "2500053                                 Shadow, The (1994)   \n",
       "\n",
       "                                         genres  \n",
       "0                                 Drama|Romance  \n",
       "1                                 Drama|Romance  \n",
       "2        Adventure|Drama|Fantasy|Mystery|Sci-Fi  \n",
       "3                                   Crime|Drama  \n",
       "4                       Mystery|Sci-Fi|Thriller  \n",
       "...                                         ...  \n",
       "2500049                               Drama|War  \n",
       "2500050                                   Drama  \n",
       "2500051                          Children|Drama  \n",
       "2500052                     Comedy|Crime|Horror  \n",
       "2500053        Action|Adventure|Fantasy|Mystery  \n",
       "\n",
       "[2500054 rows x 6 columns]"
      ]
     },
     "execution_count": 78,
     "metadata": {},
     "output_type": "execute_result"
    }
   ],
   "source": [
    "ratings"
   ]
  },
  {
   "cell_type": "code",
   "execution_count": null,
   "id": "f00951bd-a744-4f60-9bb5-ec9334bb06f7",
   "metadata": {},
   "outputs": [],
   "source": []
  }
 ],
 "metadata": {
  "kernelspec": {
   "display_name": "Python [conda env:base] *",
   "language": "python",
   "name": "conda-base-py"
  },
  "language_info": {
   "codemirror_mode": {
    "name": "ipython",
    "version": 3
   },
   "file_extension": ".py",
   "mimetype": "text/x-python",
   "name": "python",
   "nbconvert_exporter": "python",
   "pygments_lexer": "ipython3",
   "version": "3.12.7"
  }
 },
 "nbformat": 4,
 "nbformat_minor": 5
}
